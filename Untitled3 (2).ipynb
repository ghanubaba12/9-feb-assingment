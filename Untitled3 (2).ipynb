{
 "cells": [
  {
   "cell_type": "code",
   "execution_count": null,
   "id": "4c38da1e-76fd-4b8e-8cf0-6ec92731ecd4",
   "metadata": {},
   "outputs": [],
   "source": [
    "\"\"\"Q1, Create a vehicle class with an init method having instance variables as name_of_vehicle, max_speed\n",
    "and average_of_vehicle.\"\"\""
   ]
  },
  {
   "cell_type": "code",
   "execution_count": 2,
   "id": "70b6c4ab-b7a5-46a8-a14f-02f9ab5459ca",
   "metadata": {},
   "outputs": [],
   "source": [
    "class Vehicle:\n",
    "    def __init__(self, name_of_vehicle, max_speed, average_of_vehicle):\n",
    "        self.name_of_vehicle = name_of_vehicle\n",
    "        self.max_speed = max_speed\n",
    "        self.average_of_vehicle = average_of_vehicle\n"
   ]
  },
  {
   "cell_type": "code",
   "execution_count": null,
   "id": "40843b08-a555-4c80-bdc6-74b0fd2d5755",
   "metadata": {},
   "outputs": [],
   "source": [
    "This class has an __init__ method which sets the instance variables name_of_vehicle, max_speed, and average_of_vehicle to the values passed as arguments when an instance of the class is created."
   ]
  },
  {
   "cell_type": "code",
   "execution_count": null,
   "id": "09157be7-1b77-40ef-8b8f-7eaa2ae8a82f",
   "metadata": {},
   "outputs": [],
   "source": [
    "\"\"\"Q2. Create a child class car from the vehicle class created in Que 1, which will inherit the vehicle class.\n",
    "Create a method named seating_capacity which takes capacity as an argument and returns the name of\n",
    "the vehicle and its seating capacity.\"\"\""
   ]
  },
  {
   "cell_type": "code",
   "execution_count": 3,
   "id": "fb6bd593-bd54-4b09-99d3-b689990020f8",
   "metadata": {},
   "outputs": [],
   "source": [
    "class Car(Vehicle):\n",
    "    def seating_capacity(self, capacity):\n",
    "        return f\"Name of the vehicle: {self.name_of_vehicle}, Seating capacity: {capacity}\"\n"
   ]
  },
  {
   "cell_type": "code",
   "execution_count": null,
   "id": "89fa1aa6-6d1a-45e3-801d-683424ebdf13",
   "metadata": {},
   "outputs": [],
   "source": [
    "The Car class inherits from the Vehicle class, so it has all of the attributes and methods of the Vehicle class. In addition, the Car class has a new method called seating_capacity which takes a capacity argument and returns a string that combines the name_of_vehicle attribute from the Vehicle class with the capacity argument."
   ]
  },
  {
   "cell_type": "code",
   "execution_count": null,
   "id": "32fd7972-a67c-4c2c-aba6-87d871413c4c",
   "metadata": {},
   "outputs": [],
   "source": [
    "\"\"\"Q3. What is multiple inheritance? Write a python code to demonstrate multiple inheritance.\"\"\""
   ]
  },
  {
   "cell_type": "code",
   "execution_count": 4,
   "id": "77c45b65-42a6-4d99-b113-19fd1638137d",
   "metadata": {},
   "outputs": [],
   "source": [
    "class Engine:\n",
    "    def __init__(self, engine_type):\n",
    "        self.engine_type = engine_type\n",
    "        \n",
    "    def start_engine(self):\n",
    "        return f\"Engine started ({self.engine_type})\"\n",
    "    \n",
    "class Chassis:\n",
    "    def __init__(self, chassis_type):\n",
    "        self.chassis_type = chassis_type\n",
    "        \n",
    "    def move_chassis(self):\n",
    "        return f\"Chassis moved ({self.chassis_type})\"\n",
    "    \n",
    "class Car(Engine, Chassis):\n",
    "    def __init__(self, engine_type, chassis_type, model):\n",
    "        Engine.__init__(self, engine_type)\n",
    "        Chassis.__init__(self, chassis_type)\n",
    "        self.model = model\n",
    "        \n",
    "    def full_description(self):\n",
    "        return f\"Model: {self.model}, Engine: {self.engine_type}, Chassis: {self.chassis_type}\"\n"
   ]
  },
  {
   "cell_type": "code",
   "execution_count": null,
   "id": "0b476cd8-d0a2-4cfa-a5d4-b9914fb24fe0",
   "metadata": {},
   "outputs": [],
   "source": [
    "In this example, we have three classes: Engine, Chassis, and Car. The Car class inherits from both the Engine and Chassis classes, so it has access to both the engine_type and chassis_type attributes and the start_engine and move_chassis methods. Note that we use the Engine.__init__ and Chassis.__init__ methods to initialize the attributes in the Car class, since it inherits from multiple classes."
   ]
  },
  {
   "cell_type": "code",
   "execution_count": null,
   "id": "4acf9f9c-baf1-4894-95c4-a78f2c9bccce",
   "metadata": {},
   "outputs": [],
   "source": [
    "\"\"\"Q4. What are getter and setter in python? Create a class and create a getter and a setter method in this\n",
    "class.\"\"\""
   ]
  },
  {
   "cell_type": "code",
   "execution_count": null,
   "id": "a806e3f3-6f2b-4421-b3c5-6de676e8907c",
   "metadata": {},
   "outputs": [],
   "source": [
    "class Person:\n",
    "    def __init__(self, name, age):\n",
    "        self.__name = name\n",
    "        self.__age = age\n",
    "        \n",
    "    @property\n",
    "    def name(self):\n",
    "        return self.__name\n",
    "    \n",
    "    @name.setter\n",
    "    def name(self, name):\n",
    "        self.__name = name\n",
    "        \n",
    "    @property\n",
    "    def age(self):\n",
    "        return self.__age\n",
    "    \n",
    "    @age.setter\n",
    "    def age(self, age):\n",
    "        self.__age = age\n"
   ]
  },
  {
   "cell_type": "code",
   "execution_count": null,
   "id": "a8ebbce8-4824-4e7f-bd3e-d497d60f4a0a",
   "metadata": {},
   "outputs": [],
   "source": []
  },
  {
   "cell_type": "code",
   "execution_count": null,
   "id": "4f14d52e-70ac-44fd-8176-81d7ac5e4f51",
   "metadata": {},
   "outputs": [],
   "source": []
  },
  {
   "cell_type": "code",
   "execution_count": null,
   "id": "733e248d-612a-411b-aa73-f2d93f5e6406",
   "metadata": {},
   "outputs": [],
   "source": []
  },
  {
   "cell_type": "code",
   "execution_count": null,
   "id": "221d1f7d-6a0b-48e7-977f-d7f681f26313",
   "metadata": {},
   "outputs": [],
   "source": []
  }
 ],
 "metadata": {
  "kernelspec": {
   "display_name": "Python 3 (ipykernel)",
   "language": "python",
   "name": "python3"
  },
  "language_info": {
   "codemirror_mode": {
    "name": "ipython",
    "version": 3
   },
   "file_extension": ".py",
   "mimetype": "text/x-python",
   "name": "python",
   "nbconvert_exporter": "python",
   "pygments_lexer": "ipython3",
   "version": "3.10.8"
  }
 },
 "nbformat": 4,
 "nbformat_minor": 5
}
